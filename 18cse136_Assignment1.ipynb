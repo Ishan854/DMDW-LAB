{
 "cells": [
  {
   "cell_type": "markdown",
   "metadata": {},
   "source": [
    "# Assignment-1\n",
    "\n",
    "## Find the Mean, Median, Mode, Standard Deviation and Variance \n",
    "### a)with using library\n",
    "### b)without using library"
   ]
  },
  {
   "cell_type": "code",
   "execution_count": 1,
   "metadata": {},
   "outputs": [],
   "source": [
    "data = [98.2,76.3,33.5,22.6,98.2,15.0,108.9,32.7]"
   ]
  },
  {
   "cell_type": "markdown",
   "metadata": {},
   "source": [
    "### a)with using library"
   ]
  },
  {
   "cell_type": "code",
   "execution_count": 2,
   "metadata": {},
   "outputs": [],
   "source": [
    "import numpy as np\n",
    "from scipy import stats"
   ]
  },
  {
   "cell_type": "code",
   "execution_count": 3,
   "metadata": {},
   "outputs": [
    {
     "name": "stdout",
     "output_type": "stream",
     "text": [
      "Mean = 60.675\n"
     ]
    }
   ],
   "source": [
    "#MEAN\n",
    "\n",
    "mean_with = np.mean(data)\n",
    "\n",
    "print(\"Mean =\",mean_with)"
   ]
  },
  {
   "cell_type": "code",
   "execution_count": 4,
   "metadata": {},
   "outputs": [
    {
     "name": "stdout",
     "output_type": "stream",
     "text": [
      "Median = 54.9\n"
     ]
    }
   ],
   "source": [
    "#MEDIAN\n",
    "\n",
    "median_with = np.median(data)\n",
    "\n",
    "print(\"Median =\",median_with)"
   ]
  },
  {
   "cell_type": "code",
   "execution_count": 5,
   "metadata": {},
   "outputs": [
    {
     "name": "stdout",
     "output_type": "stream",
     "text": [
      "Mode = ModeResult(mode=array([98.2]), count=array([2]))\n"
     ]
    }
   ],
   "source": [
    "#MODE\n",
    "\n",
    "mode_with = stats.mode(data)\n",
    "\n",
    "print(\"Mode =\",mode_with)"
   ]
  },
  {
   "cell_type": "code",
   "execution_count": 6,
   "metadata": {},
   "outputs": [
    {
     "name": "stdout",
     "output_type": "stream",
     "text": [
      "Standard Deviation = 36.13003425129846\n"
     ]
    }
   ],
   "source": [
    "#STANDARD DEVIATION\n",
    "\n",
    "std_with = np.std(data)\n",
    "\n",
    "print(\"Standard Deviation =\",std_with)"
   ]
  },
  {
   "cell_type": "code",
   "execution_count": 7,
   "metadata": {},
   "outputs": [
    {
     "name": "stdout",
     "output_type": "stream",
     "text": [
      "Variance = 1305.379375\n"
     ]
    }
   ],
   "source": [
    "#VARIANCE\n",
    "\n",
    "var_with = np.var(data)\n",
    "\n",
    "print(\"Variance =\",var_with)"
   ]
  },
  {
   "cell_type": "markdown",
   "metadata": {},
   "source": [
    "### b) without using library"
   ]
  },
  {
   "cell_type": "code",
   "execution_count": 8,
   "metadata": {},
   "outputs": [
    {
     "name": "stdout",
     "output_type": "stream",
     "text": [
      "Mean = 60.675000000000004\n"
     ]
    }
   ],
   "source": [
    "#MEAN\n",
    "\n",
    "sum_of_data = sum(data)\n",
    "n = len(data)\n",
    "mean_wo = sum_of_data/n\n",
    "\n",
    "print(\"Mean =\",mean_wo)"
   ]
  },
  {
   "cell_type": "code",
   "execution_count": 9,
   "metadata": {},
   "outputs": [
    {
     "name": "stdout",
     "output_type": "stream",
     "text": [
      "Median = 54.9\n"
     ]
    }
   ],
   "source": [
    "#MEDIAN\n",
    "\n",
    "data.sort()\n",
    "n = len(data)\n",
    "if n%2 == 0:\n",
    "    median_wo = (data[n//2]+data[n//2 - 1])/2\n",
    "else :\n",
    "    median_wo = data[n//2]\n",
    "\n",
    "print(\"Median =\",median_wo)"
   ]
  },
  {
   "cell_type": "code",
   "execution_count": 10,
   "metadata": {},
   "outputs": [
    {
     "name": "stdout",
     "output_type": "stream",
     "text": [
      "Mode = 15.0\n"
     ]
    }
   ],
   "source": [
    "#MODE\n",
    "\n",
    "max = 0\n",
    "for i in data: \n",
    "    if data.count(i) > max :\n",
    "        max = i\n",
    "mode_wo = max\n",
    "\n",
    "print(\"Mode =\",mode_wo)"
   ]
  },
  {
   "cell_type": "code",
   "execution_count": 11,
   "metadata": {},
   "outputs": [
    {
     "name": "stdout",
     "output_type": "stream",
     "text": [
      "Standard Deviation = 38.62463129736183\n"
     ]
    }
   ],
   "source": [
    "#STANDARD DEVIATION\n",
    "\n",
    "sum_of_data = sum(data)\n",
    "n = len(data)\n",
    "mean_wo = sum_of_data/n\n",
    "\n",
    "#sum of squares for each i-xi\n",
    "sum_of_squares = 0\n",
    "for i in data :\n",
    "    sum_of_squares += (i - mean_wo)**2\n",
    "    \n",
    "std_wo = (sum_of_squares/(n-1))**(1/2)\n",
    "\n",
    "print(\"Standard Deviation =\",std_wo)"
   ]
  },
  {
   "cell_type": "code",
   "execution_count": 12,
   "metadata": {},
   "outputs": [
    {
     "name": "stdout",
     "output_type": "stream",
     "text": [
      "Variance = 1491.862142857143\n"
     ]
    }
   ],
   "source": [
    "#VARIANCE\n",
    "\n",
    "sum_of_data = sum(data)\n",
    "n = len(data)\n",
    "mean_wo = sum_of_data/n\n",
    "\n",
    "#sum of squares for each i-xi\n",
    "sum_of_squares = 0\n",
    "for i in data :\n",
    "    sum_of_squares += (i - mean_wo)**2\n",
    "    \n",
    "std_wo = (sum_of_squares/(n-1))**(1/2)\n",
    "\n",
    "var_wo = std_wo**2\n",
    "\n",
    "print(\"Variance =\",var_wo)"
   ]
  }
 ],
 "metadata": {
  "kernelspec": {
   "display_name": "Python 3",
   "language": "python",
   "name": "python3"
  },
  "language_info": {
   "codemirror_mode": {
    "name": "ipython",
    "version": 3
   },
   "file_extension": ".py",
   "mimetype": "text/x-python",
   "name": "python",
   "nbconvert_exporter": "python",
   "pygments_lexer": "ipython3",
   "version": "3.7.3"
  }
 },
 "nbformat": 4,
 "nbformat_minor": 4
}
